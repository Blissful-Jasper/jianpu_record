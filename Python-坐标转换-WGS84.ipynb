{
 "cells": [
  {
   "cell_type": "code",
   "execution_count": 1,
   "metadata": {},
   "outputs": [],
   "source": [
    "from pyproj import CRS\n",
    "from pyproj import Transformer\n",
    "import pyproj"
   ]
  },
  {
   "cell_type": "code",
   "execution_count": null,
   "metadata": {},
   "outputs": [
    {
     "name": "stdout",
     "output_type": "stream",
     "text": [
      "(38.58009072741289,111.59202399801639)\n"
     ]
    }
   ],
   "source": [
    "# 定义坐标系\n",
    "# # CGCS2000 3度带坐标转换为 WGS84 经纬度\n",
    "transformer = pyproj.Transformer.from_crs(\"EPSG:4525\", \"EPSG:4326\")\n",
    "\n",
    "x = 4272055.441\n",
    "y = 37551586.860\n",
    "\n",
    "# 转换为经纬度\n",
    "lon, lat = transformer.transform(x, y)\n",
    "print(f\"({lon},{lat})\")"
   ]
  },
  {
   "cell_type": "code",
   "execution_count": null,
   "metadata": {},
   "outputs": [
    {
     "data": {
      "text/plain": [
       "(38.58009072741289, 111.59202399801639)"
      ]
     },
     "execution_count": 3,
     "metadata": {},
     "output_type": "execute_result"
    }
   ],
   "source": [
    "\n",
    "crs = pyproj.CRS.from_epsg(4525) #4549 is CGCS 2000 120E\n",
    "des = pyproj.CRS.from_epsg(4326) #经纬度\n",
    "trans = pyproj.Transformer.from_crs(crs, des)\n",
    "lat_lon = trans.transform(4272055.441,37551586.860)\n",
    "lat_lon"
   ]
  },
  {
   "cell_type": "code",
   "execution_count": null,
   "metadata": {},
   "outputs": [],
   "source": []
  }
 ],
 "metadata": {
  "kernelspec": {
   "display_name": "pji",
   "language": "python",
   "name": "python3"
  },
  "language_info": {
   "codemirror_mode": {
    "name": "ipython",
    "version": 3
   },
   "file_extension": ".py",
   "mimetype": "text/x-python",
   "name": "python",
   "nbconvert_exporter": "python",
   "pygments_lexer": "ipython3",
   "version": "3.12.3"
  }
 },
 "nbformat": 4,
 "nbformat_minor": 2
}
